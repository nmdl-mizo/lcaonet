{
 "cells": [
  {
   "cell_type": "code",
   "execution_count": 1,
   "id": "870a1ee5-56cf-4108-8608-1261e3ea1dd6",
   "metadata": {},
   "outputs": [],
   "source": [
    "import ase\n",
    "import ase.neighborlist\n",
    "import numpy as np\n",
    "import torch\n",
    "import torch_geometric.data\n",
    "default_dtype = torch.float64\n",
    "torch.set_default_dtype(default_dtype)\n",
    "\n",
    "from pyggnn import EGNN\n",
    "\n",
    "DEVICE = torch.device(\"cpu\")\n",
    "CUTOFF = 4.0"
   ]
  },
  {
   "cell_type": "markdown",
   "id": "420cf9ec-38d0-4e95-bd1a-44b3374bbaad",
   "metadata": {},
   "source": [
    "### Dummy atom data"
   ]
  },
  {
   "cell_type": "code",
   "execution_count": 2,
   "id": "c3c6fcf3-3218-4209-8858-1f3d8d7e37da",
   "metadata": {},
   "outputs": [],
   "source": [
    "# Polonium with Simple Cubic Lattice\n",
    "po_lattice = torch.eye(3) * 3.340  # Cubic lattice with edges of length 3.34 AA\n",
    "po_coords = torch.tensor([[0., 0., 0.,]])\n",
    "po_types = ['Po']\n",
    "\n",
    "po = ase.Atoms(symbols=po_types, positions=po_coords, cell=po_lattice, pbc=True)"
   ]
  },
  {
   "cell_type": "code",
   "execution_count": 3,
   "id": "98fa8081-fdf6-4966-a0ac-015124d8d6b1",
   "metadata": {},
   "outputs": [],
   "source": [
    "# Silicon with Diamond Structure\n",
    "si_lattice = torch.tensor([\n",
    "    [0.      , 2.734364, 2.734364],\n",
    "    [2.734364, 0.      , 2.734364],\n",
    "    [2.734364, 2.734364, 0.      ]\n",
    "])\n",
    "si_coords = torch.tensor([\n",
    "    [1.367182, 1.367182, 1.367182],\n",
    "    [0.      , 0.      , 0.      ]\n",
    "])\n",
    "si_types = ['Si', 'Si']\n",
    "\n",
    "\n",
    "si = ase.Atoms(symbols=si_types, positions=si_coords, cell=si_lattice, pbc=True)"
   ]
  },
  {
   "cell_type": "markdown",
   "id": "d90502bf-3776-48ab-af5a-03bf51ef137f",
   "metadata": {},
   "source": [
    "### Make dataset and dataloader"
   ]
  },
  {
   "cell_type": "code",
   "execution_count": 4,
   "id": "af546bbd-9c23-4fb1-b6ce-6ddc5d1ece1b",
   "metadata": {},
   "outputs": [
    {
     "name": "stdout",
     "output_type": "stream",
     "text": [
      "[Data(edge_index=[2, 7], pos=[1, 3], lattice=[1, 3, 3], atomic_num=[1], edge_shift=[7, 3], energy=[1, 1]), Data(edge_index=[2, 34], pos=[2, 3], lattice=[1, 3, 3], atomic_num=[2], edge_shift=[34, 3], energy=[1, 1])]\n"
     ]
    }
   ],
   "source": [
    "dataset = []\n",
    "\n",
    "dummy_energies = torch.randn(2, 1, 1)  # dummy energies for example\n",
    "\n",
    "for crystal, energy in zip([po, si], dummy_energies):\n",
    "    # edge_src and edge_dst are the indices of the central and neighboring atom, respectively\n",
    "    # edge_shift indicates whether the neighbors are in different images / copies of the unit cell\n",
    "    edge_src, edge_dst, edge_shift = ase.neighborlist.neighbor_list(\n",
    "        \"ijS\",\n",
    "        a=crystal, \n",
    "        cutoff=CUTOFF,\n",
    "        self_interaction=True\n",
    "    )\n",
    "\n",
    "    data = torch_geometric.data.Data(\n",
    "        pos=torch.tensor(crystal.get_positions()),\n",
    "        lattice=torch.tensor(crystal.cell.array).unsqueeze(0),  # We add a dimension for batching\n",
    "        atomic_num=torch.tensor(crystal.numbers),  # Using atomic num\n",
    "        edge_index=torch.stack([torch.LongTensor(edge_src), torch.LongTensor(edge_dst)], dim=0),\n",
    "        edge_shift=torch.tensor(edge_shift, dtype=default_dtype),\n",
    "        energy=energy  # dummy energy (assumed to be normalized \"per atom\")\n",
    "    )\n",
    "    dataset.append(data)\n",
    "\n",
    "print(dataset)"
   ]
  },
  {
   "cell_type": "code",
   "execution_count": 5,
   "id": "fba48101-a1e9-4134-94dd-1184d9f66101",
   "metadata": {},
   "outputs": [],
   "source": [
    "batch_size = 2\n",
    "dataloader = torch_geometric.loader.DataLoader(dataset, batch_size=batch_size)"
   ]
  },
  {
   "cell_type": "markdown",
   "id": "5e932efe-a87b-44bf-86c8-229593c715e2",
   "metadata": {},
   "source": [
    "### Define model"
   ]
  },
  {
   "cell_type": "code",
   "execution_count": 6,
   "id": "96f32950-af14-46ab-8217-a4b435330552",
   "metadata": {},
   "outputs": [
    {
     "data": {
      "text/plain": [
       "EGNN(\n",
       "  (node_initialize): AtomicNum2Node(100, 256)\n",
       "  (convs): ModuleList(\n",
       "    (0): EGNNConv()\n",
       "    (1): EGNNConv()\n",
       "    (2): EGNNConv()\n",
       "    (3): EGNNConv()\n",
       "    (4): EGNNConv()\n",
       "  )\n",
       "  (output): Node2Property(\n",
       "    (node_transform): Sequential(\n",
       "      (0): Dense(in_features=256, out_features=256, bias=True)\n",
       "      (1): Swish()\n",
       "      (2): Dense(in_features=256, out_features=256, bias=True)\n",
       "    )\n",
       "    (predict): Sequential(\n",
       "      (0): Dense(in_features=256, out_features=256, bias=True)\n",
       "      (1): Swish()\n",
       "      (2): Dense(in_features=256, out_features=1, bias=False)\n",
       "    )\n",
       "  )\n",
       ")"
      ]
     },
     "execution_count": 6,
     "metadata": {},
     "output_type": "execute_result"
    }
   ],
   "source": [
    "model = EGNN(\n",
    "    node_dim=256,\n",
    "    edge_dim=256,\n",
    "    n_conv_layer=5,\n",
    "    out_dim=1,\n",
    "    activation=\"swish\",\n",
    "    aggr=\"add\",\n",
    "    beta=1.0,\n",
    ")\n",
    "model.to(DEVICE)"
   ]
  },
  {
   "cell_type": "code",
   "execution_count": 7,
   "id": "403e5b40-607a-4a48-b674-e53bae76bdbb",
   "metadata": {},
   "outputs": [
    {
     "name": "stdout",
     "output_type": "stream",
     "text": [
      "True\n"
     ]
    }
   ],
   "source": [
    "for data in dataloader:\n",
    "    out = model(data)\n",
    "    # get same shape of energy\n",
    "    print(out.shape==data[\"energy\"].shape)"
   ]
  },
  {
   "cell_type": "code",
   "execution_count": 8,
   "id": "f46ece7f-8810-4486-8522-4627aa02440c",
   "metadata": {},
   "outputs": [
    {
     "data": {
      "text/plain": [
       "tensor([[ -2.7241],\n",
       "        [-38.0073]], grad_fn=<MmBackward0>)"
      ]
     },
     "execution_count": 8,
     "metadata": {},
     "output_type": "execute_result"
    }
   ],
   "source": [
    "out"
   ]
  }
 ],
 "metadata": {
  "kernelspec": {
   "display_name": "Python 3 (ipykernel)",
   "language": "python",
   "name": "python3"
  },
  "language_info": {
   "codemirror_mode": {
    "name": "ipython",
    "version": 3
   },
   "file_extension": ".py",
   "mimetype": "text/x-python",
   "name": "python",
   "nbconvert_exporter": "python",
   "pygments_lexer": "ipython3",
   "version": "3.8.12"
  },
  "vscode": {
   "interpreter": {
    "hash": "a0b44de74b2d6ef6bbc7e262ed4c8a3617fa5a550df48c50a3e2ac4c6e8fd93c"
   }
  }
 },
 "nbformat": 4,
 "nbformat_minor": 5
}
