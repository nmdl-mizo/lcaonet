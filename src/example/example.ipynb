{
 "cells": [
  {
   "cell_type": "markdown",
   "id": "6e57063f-4270-49e4-8f73-53df38d22cbb",
   "metadata": {},
   "source": [
    "# Example of how to use GraphDataset, GraphDataLoader and GNNs"
   ]
  },
  {
   "cell_type": "code",
   "execution_count": 1,
   "id": "870a1ee5-56cf-4108-8608-1261e3ea1dd6",
   "metadata": {},
   "outputs": [],
   "source": [
    "import ase\n",
    "import numpy as np\n",
    "import torch\n",
    "torch.set_default_dtype(torch.float64)\n",
    "\n",
    "from pyggnn.data import List2GraphDataset, Hdf2GraphDataset, GraphLoader\n",
    "from pyggnn.nn import ScaleShift\n",
    "from pyggnn import EGNN, SchNet, DimeNet, DimeNetPlusPlus\n",
    "\n",
    "DEVICE = torch.device(\"cpu\")\n",
    "CUTOFF = 4.0"
   ]
  },
  {
   "cell_type": "markdown",
   "id": "420cf9ec-38d0-4e95-bd1a-44b3374bbaad",
   "metadata": {},
   "source": [
    "## Dummy atoms data"
   ]
  },
  {
   "cell_type": "markdown",
   "id": "d9955501-da17-4a33-9299-38d7f03d6f0d",
   "metadata": {},
   "source": [
    "### Polonium with Simple Cubic Lattice"
   ]
  },
  {
   "cell_type": "code",
   "execution_count": 16,
   "id": "c3c6fcf3-3218-4209-8858-1f3d8d7e37da",
   "metadata": {},
   "outputs": [],
   "source": [
    "po_lattice = torch.eye(3) * 3.340  # Cubic lattice with edges of length 3.34 AA\n",
    "po_coords = torch.tensor([[0., 0., 0.,]])\n",
    "po_types = ['Po']\n",
    "\n",
    "# make atoms object\n",
    "po = ase.Atoms(\n",
    "    symbols=po_types,\n",
    "    positions=po_coords,\n",
    "    cell=po_lattice,\n",
    "    pbc=True,\n",
    "    # Additional data to be put in `info` parameters of atoms object.\n",
    "    info={\n",
    "        # you can add value data\n",
    "        \"energy\": -12.0,\n",
    "        # you can also add array-like data\n",
    "        \"dos\": np.array([0.1, 0.2, 0.3]),\n",
    "    }\n",
    ")"
   ]
  },
  {
   "cell_type": "markdown",
   "id": "39bf2f9a-5f3a-4bfc-82bf-2b5483b0c247",
   "metadata": {},
   "source": [
    "### Silicon with Diamond Structure"
   ]
  },
  {
   "cell_type": "code",
   "execution_count": 17,
   "id": "631e3619-fffd-4bec-9123-9287d911b3c2",
   "metadata": {},
   "outputs": [],
   "source": [
    "si_lattice = torch.tensor([\n",
    "    [0.      , 2.734364, 2.734364],\n",
    "    [2.734364, 0.      , 2.734364],\n",
    "    [2.734364, 2.734364, 0.      ],\n",
    "])\n",
    "si_coords = torch.tensor([\n",
    "    [1.367182, 1.367182, 1.367182],\n",
    "    [0.      , 0.      , 0.      ],\n",
    "])\n",
    "si_types = ['Si', 'Si']\n",
    "\n",
    "# make atoms object\n",
    "si = ase.Atoms(\n",
    "    symbols=si_types,\n",
    "    positions=si_coords,\n",
    "    cell=si_lattice,\n",
    "    pbc=True,\n",
    "    info={\n",
    "        \"energy\": -1.,\n",
    "        \"dos\": np.array([0.5, 0.6, 0.7]),\n",
    "    }\n",
    ")"
   ]
  },
  {
   "cell_type": "markdown",
   "id": "13c6eb92-b13c-4788-bcf4-3305bc2bd725",
   "metadata": {},
   "source": [
    "### isolated CO2 molecule"
   ]
  },
  {
   "cell_type": "code",
   "execution_count": 19,
   "id": "b559fd7b-b071-42ca-9c92-a0ab9e84664d",
   "metadata": {},
   "outputs": [],
   "source": [
    "co2_lattice = torch.tensor([\n",
    "    [15.      , 0.       , 0.    ],\n",
    "    [0.       , 15.      , 0.    ],\n",
    "    [0.       , 0.       , 15.   ],\n",
    "])\n",
    "co2_coords = torch.tensor([\n",
    "     [0.5     , 0.5      , 0.5    ],\n",
    "     [0.421632, 0.5      , 0.5    ],\n",
    "     [0.578368, 0.5      , 0.5    ],\n",
    "])\n",
    "co2_types = ['C', 'O', 'O']\n",
    "\n",
    "# make atoms object\n",
    "# without pbc\n",
    "co2 = ase.Atoms(\n",
    "    symbols=co2_types,\n",
    "    positions=co2_coords,\n",
    "    cell=co2_lattice,\n",
    "    pbc=False,\n",
    "    info={\n",
    "        \"energy\": -10.,\n",
    "        \"dos\": np.array([0.8, 0.9, 1.0]),\n",
    "    }\n",
    ")"
   ]
  },
  {
   "cell_type": "markdown",
   "id": "d90502bf-3776-48ab-af5a-03bf51ef137f",
   "metadata": {},
   "source": [
    "## Make dataset and dataloader"
   ]
  },
  {
   "cell_type": "code",
   "execution_count": 21,
   "id": "0a7e3a09-705d-454f-b2f9-8b59d77a9f1e",
   "metadata": {},
   "outputs": [],
   "source": [
    "dataset = List2GraphDataset(\n",
    "    # passing a list of atoms objects\n",
    "    [po, si, co2],\n",
    "    cutoff_radi=CUTOFF,\n",
    "    # passing additional property key names\n",
    "    property_names=[\"energy\", \"dos\"]\n",
    ")\n",
    "\n",
    "# if you have hdf5 file, you can also use Hdf52GraphDataset\n",
    "dataset = Hdf2GraphDataset(\n",
    "    hdf5_path=\"./\",\n",
    "    cutoff_radi=CUTOFF,\n",
    "    property_names=[\"energy\", \"dos\"]\n",
    ")"
   ]
  },
  {
   "cell_type": "code",
   "execution_count": 25,
   "id": "fba48101-a1e9-4134-94dd-1184d9f66101",
   "metadata": {},
   "outputs": [
    {
     "name": "stdout",
     "output_type": "stream",
     "text": [
      "Data(edge_index=[2, 44], pos=[6, 3], atom_numbers=[6], lattice=[3, 3, 3], edge_shift=[44, 3], energy=[3, 1], dos=[3, 3], batch=[6])\n"
     ]
    }
   ],
   "source": [
    "batch_size = 3\n",
    "# Inherits Pytorch's data loader, so the same keyword argument can be used.\n",
    "dataloader = GraphLoader(dataset, batch_size=batch_size, shuffle=True)\n",
    "\n",
    "# check each batch\n",
    "for t in dataloader:\n",
    "    print(t)"
   ]
  },
  {
   "cell_type": "markdown",
   "id": "5e932efe-a87b-44bf-86c8-229593c715e2",
   "metadata": {},
   "source": [
    "## Define model & Training"
   ]
  },
  {
   "cell_type": "code",
   "execution_count": 26,
   "id": "96f32950-af14-46ab-8217-a4b435330552",
   "metadata": {},
   "outputs": [
    {
     "data": {
      "text/plain": [
       "SchNet(node_dim=128, edge_filter_dim=128, n_gaussian=32, cutoff=4.0, out_dim=1, convolution_layers: SchNetConv * 4)"
      ]
     },
     "execution_count": 26,
     "metadata": {},
     "output_type": "execute_result"
    }
   ],
   "source": [
    "model = SchNet(\n",
    "    node_dim=128,\n",
    "    edge_filter_dim=128,\n",
    "    out_dim=1,\n",
    "    n_conv_layer=4,\n",
    "    n_gaussian=32,\n",
    "    scaler=ScaleShift,\n",
    "    cutoff_radi=CUTOFF,\n",
    ")\n",
    "model.to(DEVICE)"
   ]
  },
  {
   "cell_type": "code",
   "execution_count": 27,
   "id": "403e5b40-607a-4a48-b674-e53bae76bdbb",
   "metadata": {},
   "outputs": [
    {
     "name": "stdout",
     "output_type": "stream",
     "text": [
      "True\n",
      "tensor([[-1.7342],\n",
      "        [-0.1156],\n",
      "        [ 0.7659]], grad_fn=<ScatterAddBackward0>)\n"
     ]
    }
   ],
   "source": [
    "for data in dataloader:\n",
    "    data.to(DEVICE)\n",
    "    out = model(data)\n",
    "    # get same shape of energy\n",
    "    print(out.shape==data[\"energy\"].shape)\n",
    "    print(out)"
   ]
  },
  {
   "cell_type": "code",
   "execution_count": 28,
   "id": "63ca9bc3-453e-4799-92a7-2a2e32809880",
   "metadata": {},
   "outputs": [
    {
     "data": {
      "text/plain": [
       "EGNN(node_dim=128, edge_dim=128, cutoff=None, out_dim=1, convolution_layers: EGNNConv * 4)"
      ]
     },
     "execution_count": 28,
     "metadata": {},
     "output_type": "execute_result"
    }
   ],
   "source": [
    "model = EGNN(\n",
    "    node_dim=128,\n",
    "    edge_dim=128,\n",
    "    n_conv_layer=4,\n",
    "    out_dim=1,\n",
    ")\n",
    "model.to(DEVICE)"
   ]
  },
  {
   "cell_type": "code",
   "execution_count": 29,
   "id": "1bcb3931-e3e8-427e-956a-df8080153ade",
   "metadata": {},
   "outputs": [
    {
     "name": "stdout",
     "output_type": "stream",
     "text": [
      "True\n",
      "tensor([[ -1.9652],\n",
      "        [ -1.3788],\n",
      "        [-27.5988]], grad_fn=<MmBackward0>)\n"
     ]
    }
   ],
   "source": [
    "for data in dataloader:\n",
    "    data.to(DEVICE)\n",
    "    out = model(data)\n",
    "    # get same shape of energy\n",
    "    print(out.shape==data[\"energy\"].shape)\n",
    "    print(out)"
   ]
  },
  {
   "cell_type": "code",
   "execution_count": 30,
   "id": "21e083ff-a510-41cf-a812-ae98c13fb656",
   "metadata": {},
   "outputs": [
    {
     "data": {
      "text/plain": [
       "DimeNet(edge_message_dim=128, n_radial=16, n_spherical=4, cutoff=4.0, out_dim=1, interaction_layers: DimNetInteraction * 4)"
      ]
     },
     "execution_count": 30,
     "metadata": {},
     "output_type": "execute_result"
    }
   ],
   "source": [
    "model = DimeNet(\n",
    "    edge_message_dim=128,\n",
    "    n_interaction=4,\n",
    "    out_dim=1,\n",
    "    n_radial=16,\n",
    "    n_spherical=4,\n",
    "    n_bilinear=2, \n",
    "    envelope_exponent=5,\n",
    "    cutoff_radi=CUTOFF,\n",
    ")\n",
    "model.to(DEVICE)"
   ]
  },
  {
   "cell_type": "code",
   "execution_count": 31,
   "id": "2b1ffa03-5c50-44b8-ac20-e74d40a8ec58",
   "metadata": {},
   "outputs": [
    {
     "name": "stdout",
     "output_type": "stream",
     "text": [
      "True\n",
      "tensor([[ 1.3469e+34],\n",
      "        [ 1.7107e-02],\n",
      "        [-3.3512e+00]], grad_fn=<ScatterAddBackward0>)\n"
     ]
    }
   ],
   "source": [
    "for data in dataloader:\n",
    "    data.to(DEVICE)\n",
    "    out = model(data)\n",
    "    # get same shape of energy\n",
    "    print(out.shape==data[\"energy\"].shape)\n",
    "    print(out)"
   ]
  },
  {
   "cell_type": "code",
   "execution_count": 32,
   "id": "5a90183b-deb2-492b-b97d-4dee4a198625",
   "metadata": {},
   "outputs": [
    {
     "data": {
      "text/plain": [
       "DimeNetPlusPlus(edge_message_dim=128, n_radial=16, n_spherical=4, cutoff=4.0, out_dim=1, interaction_layers: DimNetPPInteraction * 4)"
      ]
     },
     "execution_count": 32,
     "metadata": {},
     "output_type": "execute_result"
    }
   ],
   "source": [
    "model = DimeNetPlusPlus(\n",
    "    edge_message_dim=128,\n",
    "    n_interaction=4,\n",
    "    out_dim=1,\n",
    "    n_radial=16,\n",
    "    n_spherical=4,\n",
    "    edge_down_dim=64,\n",
    "    basis_embed_dim=64,\n",
    "    out_up_dim=256,\n",
    "    envelope_exponent=5,\n",
    "    cutoff_radi=CUTOFF,\n",
    ")\n",
    "model.to(DEVICE)"
   ]
  },
  {
   "cell_type": "code",
   "execution_count": 33,
   "id": "d53e3d0a-af99-4a6f-8768-d978310a67cd",
   "metadata": {},
   "outputs": [
    {
     "name": "stdout",
     "output_type": "stream",
     "text": [
      "True\n",
      "tensor([[-8.8331e+35],\n",
      "        [ 1.5179e-01],\n",
      "        [-6.7252e-02]], grad_fn=<ScatterAddBackward0>)\n"
     ]
    }
   ],
   "source": [
    "for data in dataloader:\n",
    "    data.to(DEVICE)\n",
    "    out = model(data)\n",
    "    # get same shape of energy\n",
    "    print(out.shape==data[\"energy\"].shape)\n",
    "    print(out)"
   ]
  },
  {
   "cell_type": "code",
   "execution_count": null,
   "id": "a0d7d05d-755b-4e36-b1f3-ba1e6a4bcf65",
   "metadata": {},
   "outputs": [],
   "source": []
  }
 ],
 "metadata": {
  "kernelspec": {
   "display_name": "Python 3 (ipykernel)",
   "language": "python",
   "name": "python3"
  },
  "language_info": {
   "codemirror_mode": {
    "name": "ipython",
    "version": 3
   },
   "file_extension": ".py",
   "mimetype": "text/x-python",
   "name": "python",
   "nbconvert_exporter": "python",
   "pygments_lexer": "ipython3",
   "version": "3.8.12"
  },
  "vscode": {
   "interpreter": {
    "hash": "a0b44de74b2d6ef6bbc7e262ed4c8a3617fa5a550df48c50a3e2ac4c6e8fd93c"
   }
  }
 },
 "nbformat": 4,
 "nbformat_minor": 5
}
