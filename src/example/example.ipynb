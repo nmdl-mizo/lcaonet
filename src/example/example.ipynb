{
 "cells": [
  {
   "cell_type": "markdown",
   "id": "6e57063f-4270-49e4-8f73-53df38d22cbb",
   "metadata": {},
   "source": [
    "# Example of how to use GraphDataset, GraphDataLoader and GNNs"
   ]
  },
  {
   "cell_type": "code",
   "execution_count": 1,
   "id": "870a1ee5-56cf-4108-8608-1261e3ea1dd6",
   "metadata": {},
   "outputs": [],
   "source": [
    "import ase\n",
    "import numpy as np\n",
    "import torch\n",
    "torch.set_default_dtype(torch.float64)\n",
    "\n",
    "from pyggnn.data import List2GraphDataset, Hdf2GraphDataset, GraphLoader\n",
    "from pyggnn.nn import ScaleShift\n",
    "from pyggnn import EGNN, SchNet, DimeNet\n",
    "\n",
    "DEVICE = torch.device(\"cpu\")\n",
    "CUTOFF = 4.0"
   ]
  },
  {
   "cell_type": "markdown",
   "id": "420cf9ec-38d0-4e95-bd1a-44b3374bbaad",
   "metadata": {},
   "source": [
    "### Dummy atoms data"
   ]
  },
  {
   "cell_type": "code",
   "execution_count": 14,
   "id": "c3c6fcf3-3218-4209-8858-1f3d8d7e37da",
   "metadata": {},
   "outputs": [],
   "source": [
    "# Polonium with Simple Cubic Lattice\n",
    "po_lattice = torch.eye(3) * 3.340  # Cubic lattice with edges of length 3.34 AA\n",
    "po_coords = torch.tensor([[0., 0., 0.,]])\n",
    "po_types = ['Po']\n",
    "\n",
    "po = ase.Atoms(\n",
    "    symbols=po_types,\n",
    "    positions=po_coords,\n",
    "    cell=po_lattice,\n",
    "    pbc=True,\n",
    "    # Additional data to be put in `info` parameters of atoms object.\n",
    "    info={\n",
    "        # you can add value data\n",
    "        \"energy\":12.0,\n",
    "        # you can also add array-like data\n",
    "        \"dos\": np.array([0.1, 0.2, 0.3]),\n",
    "    }\n",
    ")\n",
    "\n",
    "# Silicon with Diamond Structure\n",
    "si_lattice = torch.tensor([\n",
    "    [0.      , 2.734364, 2.734364],\n",
    "    [2.734364, 0.      , 2.734364],\n",
    "    [2.734364, 2.734364, 0.      ],\n",
    "])\n",
    "si_coords = torch.tensor([\n",
    "    [1.367182, 1.367182, 1.367182],\n",
    "    [0.      , 0.      , 0.      ],\n",
    "])\n",
    "si_types = ['Si', 'Si']\n",
    "\n",
    "\n",
    "si = ase.Atoms(\n",
    "    symbols=si_types,\n",
    "    positions=si_coords,\n",
    "    cell=si_lattice,\n",
    "    pbc=True,\n",
    "    info={\n",
    "        \"energy\":1.,\n",
    "        \"dos\": np.array([0.5, 0.6, 0.7]),\n",
    "    }\n",
    ")"
   ]
  },
  {
   "cell_type": "markdown",
   "id": "d90502bf-3776-48ab-af5a-03bf51ef137f",
   "metadata": {},
   "source": [
    "### Make dataset and dataloader"
   ]
  },
  {
   "cell_type": "code",
   "execution_count": 3,
   "id": "0a7e3a09-705d-454f-b2f9-8b59d77a9f1e",
   "metadata": {},
   "outputs": [],
   "source": [
    "dataset = List2GraphDataset(\n",
    "    # passing a list of atoms objects\n",
    "    [po, si],\n",
    "    cutoff_radi=CUTOFF,\n",
    "    # passing additional properties\n",
    "    property_names=[\"energy\", \"dos\"]\n",
    ")\n",
    "\n",
    "# if you have hdf5 file, you can also use Hdf52GraphDataset\n",
    "dataset = Hdf2GraphDataset(\n",
    "    hdf5_path=\"./\",\n",
    "    cutoff_radi=CUTOFF,\n",
    "    property_names=[\"energy\", \"dos\"]\n",
    ")"
   ]
  },
  {
   "cell_type": "code",
   "execution_count": 4,
   "id": "fba48101-a1e9-4134-94dd-1184d9f66101",
   "metadata": {},
   "outputs": [],
   "source": [
    "batch_size = 2\n",
    "# Inherits Pytorch's data loader, so the same keyword argument can be used.\n",
    "dataloader = GraphLoader(dataset, batch_size=batch_size, shuffle=True)"
   ]
  },
  {
   "cell_type": "markdown",
   "id": "5e932efe-a87b-44bf-86c8-229593c715e2",
   "metadata": {},
   "source": [
    "### Define model"
   ]
  },
  {
   "cell_type": "code",
   "execution_count": 15,
   "id": "96f32950-af14-46ab-8217-a4b435330552",
   "metadata": {},
   "outputs": [
    {
     "data": {
      "text/plain": [
       "SchNet(node_dim=128, edge_dim=128, n_gaussian=32, n_conv_layer=4, cutoff=4.0, out_dim=1)"
      ]
     },
     "execution_count": 15,
     "metadata": {},
     "output_type": "execute_result"
    }
   ],
   "source": [
    "model = SchNet(\n",
    "    node_dim=128,\n",
    "    edge_dim=128,\n",
    "    out_dim=1,\n",
    "    n_conv_layer=4,\n",
    "    n_gaussian=32,\n",
    "    scaler=ScaleShift,\n",
    "    cutoff_radi=CUTOFF,\n",
    ")\n",
    "model.to(DEVICE)"
   ]
  },
  {
   "cell_type": "code",
   "execution_count": 16,
   "id": "403e5b40-607a-4a48-b674-e53bae76bdbb",
   "metadata": {},
   "outputs": [
    {
     "name": "stdout",
     "output_type": "stream",
     "text": [
      "True\n",
      "tensor([[0.1551],\n",
      "        [0.4404]], grad_fn=<ScatterAddBackward0>)\n"
     ]
    }
   ],
   "source": [
    "for data in dataloader:\n",
    "    data.to(DEVICE)\n",
    "    out = model(data)\n",
    "    # get same shape of energy\n",
    "    print(out.shape==data[\"energy\"].shape)\n",
    "    print(out)"
   ]
  },
  {
   "cell_type": "code",
   "execution_count": 17,
   "id": "63ca9bc3-453e-4799-92a7-2a2e32809880",
   "metadata": {},
   "outputs": [
    {
     "data": {
      "text/plain": [
       "EGNN(node_dim=128, edge_dim=128, n_conv_layer=4, cutoff=None, out_dim=1)"
      ]
     },
     "execution_count": 17,
     "metadata": {},
     "output_type": "execute_result"
    }
   ],
   "source": [
    "model = EGNN(\n",
    "    node_dim=128,\n",
    "    edge_dim=128,\n",
    "    n_conv_layer=4,\n",
    "    out_dim=1,\n",
    ")\n",
    "model.to(DEVICE)"
   ]
  },
  {
   "cell_type": "code",
   "execution_count": 18,
   "id": "1bcb3931-e3e8-427e-956a-df8080153ade",
   "metadata": {},
   "outputs": [
    {
     "name": "stdout",
     "output_type": "stream",
     "text": [
      "True\n",
      "tensor([[ 0.6844],\n",
      "        [16.1460]], grad_fn=<MmBackward0>)\n"
     ]
    }
   ],
   "source": [
    "for data in dataloader:\n",
    "    data.to(DEVICE)\n",
    "    out = model(data)\n",
    "    # get same shape of energy\n",
    "    print(out.shape==data[\"energy\"].shape)\n",
    "    print(out)"
   ]
  },
  {
   "cell_type": "code",
   "execution_count": null,
   "id": "21e083ff-a510-41cf-a812-ae98c13fb656",
   "metadata": {},
   "outputs": [],
   "source": [
    "model = DimeNet(\n",
    "    node_dim=128,\n",
    "    edge_dim=128,\n",
    "    n_interaction=4,\n",
    "    out_dim=1,\n",
    "    n_radial=16,\n",
    "    n_spherical=4,\n",
    "    n_bilinear=2, \n",
    "    envelope_exponent=5,\n",
    "    cutoff_radi=CUTOFF,\n",
    ")\n",
    "model.to(DEVICE)"
   ]
  },
  {
   "cell_type": "code",
   "execution_count": null,
   "id": "2b1ffa03-5c50-44b8-ac20-e74d40a8ec58",
   "metadata": {},
   "outputs": [],
   "source": [
    "for data in dataloader:\n",
    "    data.to(DEVICE)\n",
    "    out = model(data)\n",
    "    # get same shape of energy\n",
    "    print(out.shape==data[\"energy\"].shape)\n",
    "    print(out)"
   ]
  },
  {
   "cell_type": "code",
   "execution_count": null,
   "id": "5a90183b-deb2-492b-b97d-4dee4a198625",
   "metadata": {},
   "outputs": [],
   "source": []
  }
 ],
 "metadata": {
  "kernelspec": {
   "display_name": "Python 3 (ipykernel)",
   "language": "python",
   "name": "python3"
  },
  "language_info": {
   "codemirror_mode": {
    "name": "ipython",
    "version": 3
   },
   "file_extension": ".py",
   "mimetype": "text/x-python",
   "name": "python",
   "nbconvert_exporter": "python",
   "pygments_lexer": "ipython3",
   "version": "3.8.12"
  },
  "vscode": {
   "interpreter": {
    "hash": "a0b44de74b2d6ef6bbc7e262ed4c8a3617fa5a550df48c50a3e2ac4c6e8fd93c"
   }
  }
 },
 "nbformat": 4,
 "nbformat_minor": 5
}
