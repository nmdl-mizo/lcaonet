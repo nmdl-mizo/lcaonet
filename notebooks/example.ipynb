{
 "cells": [
  {
   "cell_type": "markdown",
   "id": "6e57063f-4270-49e4-8f73-53df38d22cbb",
   "metadata": {},
   "source": [
    "# Example of how to use GraphDataset, GraphDataLoader and GNNs"
   ]
  },
  {
   "cell_type": "code",
   "execution_count": 1,
   "id": "870a1ee5-56cf-4108-8608-1261e3ea1dd6",
   "metadata": {},
   "outputs": [],
   "source": [
    "import ase\n",
    "from ase.db import connect\n",
    "import h5py\n",
    "import numpy as np\n",
    "import torch\n",
    "torch.set_default_dtype(torch.float64)\n",
    "\n",
    "from pyggnn.data import List2GraphDataset, Hdf2GraphDataset, Db2GraphDataset, DataKeys, GraphLoader\n",
    "from pyggnn.nn import ScaleShift\n",
    "from pyggnn import EGNN, SchNet, DimeNet, DimeNetPlusPlus\n",
    "\n",
    "DEVICE = torch.device(\"cpu\")\n",
    "CUTOFF = 4.0"
   ]
  },
  {
   "cell_type": "markdown",
   "id": "420cf9ec-38d0-4e95-bd1a-44b3374bbaad",
   "metadata": {},
   "source": [
    "## Dummy atoms data"
   ]
  },
  {
   "cell_type": "markdown",
   "id": "d9955501-da17-4a33-9299-38d7f03d6f0d",
   "metadata": {},
   "source": [
    "### Polonium with Simple Cubic Lattice"
   ]
  },
  {
   "cell_type": "code",
   "execution_count": 2,
   "id": "c3c6fcf3-3218-4209-8858-1f3d8d7e37da",
   "metadata": {},
   "outputs": [],
   "source": [
    "po_lattice = torch.eye(3) * 3.340  # Cubic lattice with edges of length 3.34 AA\n",
    "po_coords = torch.tensor([[0., 0., 0.,]])\n",
    "po_types = ['Po']\n",
    "\n",
    "# make atoms object\n",
    "po = ase.Atoms(\n",
    "    symbols=po_types,\n",
    "    positions=po_coords,\n",
    "    cell=po_lattice,\n",
    "    pbc=True,\n",
    "    # Additional data to be put in `info` parameters of atoms object.\n",
    "    info={\n",
    "        # you can add value data\n",
    "        \"energy\": -12.0,\n",
    "        # you can also add array-like data\n",
    "        \"dos\": np.array([0.1, 0.2, 0.3]),\n",
    "    }\n",
    ")"
   ]
  },
  {
   "cell_type": "markdown",
   "id": "39bf2f9a-5f3a-4bfc-82bf-2b5483b0c247",
   "metadata": {},
   "source": [
    "### Silicon with Diamond Structure"
   ]
  },
  {
   "cell_type": "code",
   "execution_count": 3,
   "id": "631e3619-fffd-4bec-9123-9287d911b3c2",
   "metadata": {},
   "outputs": [],
   "source": [
    "si_lattice = torch.tensor([\n",
    "    [0.      , 2.734364, 2.734364],\n",
    "    [2.734364, 0.      , 2.734364],\n",
    "    [2.734364, 2.734364, 0.      ],\n",
    "])\n",
    "si_coords = torch.tensor([\n",
    "    [1.367182, 1.367182, 1.367182],\n",
    "    [0.      , 0.      , 0.      ],\n",
    "])\n",
    "si_types = ['Si', 'Si']\n",
    "\n",
    "# make atoms object\n",
    "si = ase.Atoms(\n",
    "    symbols=si_types,\n",
    "    positions=si_coords,\n",
    "    cell=si_lattice,\n",
    "    pbc=True,\n",
    "    info={\n",
    "        \"energy\": -1.,\n",
    "        \"dos\": np.array([0.5, 0.6, 0.7]),\n",
    "    }\n",
    ")"
   ]
  },
  {
   "cell_type": "markdown",
   "id": "13c6eb92-b13c-4788-bcf4-3305bc2bd725",
   "metadata": {},
   "source": [
    "### isolated CO2 molecule"
   ]
  },
  {
   "cell_type": "code",
   "execution_count": 4,
   "id": "b559fd7b-b071-42ca-9c92-a0ab9e84664d",
   "metadata": {},
   "outputs": [],
   "source": [
    "co2_lattice = torch.tensor([\n",
    "    [15.      , 0.       , 0.    ],\n",
    "    [0.       , 15.      , 0.    ],\n",
    "    [0.       , 0.       , 15.   ],\n",
    "])\n",
    "co2_coords = torch.tensor([\n",
    "     [0.5     , 0.5      , 0.5    ],\n",
    "     [0.421632, 0.5      , 0.5    ],\n",
    "     [0.578368, 0.5      , 0.5    ],\n",
    "])\n",
    "co2_types = ['C', 'O', 'O']\n",
    "\n",
    "# make atoms object\n",
    "# without pbc\n",
    "co2 = ase.Atoms(\n",
    "    symbols=co2_types,\n",
    "    positions=co2_coords,\n",
    "    cell=co2_lattice,\n",
    "    pbc=False,\n",
    "    info={\n",
    "        \"energy\": -10.,\n",
    "        \"dos\": np.array([0.8, 0.9, 1.0]),\n",
    "    }\n",
    ")"
   ]
  },
  {
   "cell_type": "markdown",
   "id": "d90502bf-3776-48ab-af5a-03bf51ef137f",
   "metadata": {},
   "source": [
    "## Make dataset and dataloader"
   ]
  },
  {
   "cell_type": "markdown",
   "id": "2b5eaa62-b05c-4b02-a681-f10a859ac2fa",
   "metadata": {},
   "source": [
    "Data sets can be created in three ways.  \n",
    "- List of ase.Atoms\n",
    "- Database\n",
    "- HDF5 file"
   ]
  },
  {
   "cell_type": "code",
   "execution_count": 5,
   "id": "0a7e3a09-705d-454f-b2f9-8b59d77a9f1e",
   "metadata": {},
   "outputs": [
    {
     "data": {
      "text/plain": [
       "Data(edge_index=[2, 6], pos=[1, 3], atom_numbers=[1], lattice=[1, 3, 3], edge_shift=[6, 3], energy=[1, 1], dos=[1, 3])"
      ]
     },
     "execution_count": 5,
     "metadata": {},
     "output_type": "execute_result"
    }
   ],
   "source": [
    "# you can make dataset from list of atoms\n",
    "dataset = List2GraphDataset(\n",
    "    # passing a list of atoms objects\n",
    "    [po, si, co2],\n",
    "    cutoff_radi=CUTOFF,\n",
    "    # passing additional property key names\n",
    "    property_names=[\"energy\", \"dos\"]\n",
    ")\n",
    "\n",
    "dataset[0]"
   ]
  },
  {
   "cell_type": "code",
   "execution_count": 6,
   "id": "0693d8a5-f05d-4d2b-abcc-09bc32a21277",
   "metadata": {},
   "outputs": [
    {
     "data": {
      "text/plain": [
       "Data(edge_index=[2, 6], pos=[1, 3], atom_numbers=[1], lattice=[1, 3, 3], edge_shift=[6, 3], energy=[1, 1], dos=[1, 3])"
      ]
     },
     "execution_count": 6,
     "metadata": {},
     "output_type": "execute_result"
    }
   ],
   "source": [
    "# from atoms, make database for data persistency\n",
    "db = connect('example.db')\n",
    "for atoms in [po, si, co2]:\n",
    "    # additional data is set `data` parameters\n",
    "    db.write(atoms=atoms, data=atoms.info)\n",
    "\n",
    "# you can make dataset from database\n",
    "dataset = Db2GraphDataset(\n",
    "    \"example.db\",\n",
    "    cutoff_radi=CUTOFF,\n",
    "    property_names=[\"energy\", \"dos\"]\n",
    ")\n",
    "\n",
    "dataset[0]"
   ]
  },
  {
   "cell_type": "code",
   "execution_count": 7,
   "id": "df1941ad-5add-4ec9-b752-1dd1b5a76920",
   "metadata": {},
   "outputs": [
    {
     "data": {
      "text/plain": [
       "Data(edge_index=[2, 6], pos=[3, 3], atom_numbers=[3], lattice=[1, 3, 3], edge_shift=[6, 3], energy=[1, 1], dos=[1, 3])"
      ]
     },
     "execution_count": 7,
     "metadata": {},
     "output_type": "execute_result"
    }
   ],
   "source": [
    "# it can also be read from Hdf5 grouped by system\n",
    "with h5py.File(\"example.hdf5\", \"w\") as f:\n",
    "    for atoms in [po, si, co2]:\n",
    "        g = f.create_group(str(atoms.symbols))\n",
    "        g.create_dataset(DataKeys.Lattice, data=np.array(atoms.cell))\n",
    "        g.create_dataset(DataKeys.Position, data=atoms.positions)\n",
    "        g.create_dataset(DataKeys.Atom_numbers, data=atoms.numbers)\n",
    "        # you can set additional information in `attrs` or `dataset`\n",
    "        g.attrs[\"energy\"] = atoms.info[\"energy\"]\n",
    "        g.create_dataset(\"dos\", data=atoms.info[\"dos\"])\n",
    "    \n",
    "dataset = Hdf2GraphDataset(\n",
    "    hdf5_path=\"example.hdf5\",\n",
    "    cutoff_radi=CUTOFF,\n",
    "    property_names=[\"energy\", \"dos\"]\n",
    ")\n",
    "\n",
    "dataset[0]"
   ]
  },
  {
   "cell_type": "code",
   "execution_count": 8,
   "id": "fba48101-a1e9-4134-94dd-1184d9f66101",
   "metadata": {},
   "outputs": [
    {
     "name": "stdout",
     "output_type": "stream",
     "text": [
      "Data(edge_index=[2, 38], pos=[5, 3], atom_numbers=[5], lattice=[2, 3, 3], edge_shift=[38, 3], energy=[2, 1], dos=[2, 3], batch=[5])\n",
      "Data(edge_index=[2, 6], pos=[1, 3], atom_numbers=[1], lattice=[1, 3, 3], edge_shift=[6, 3], energy=[1, 1], dos=[1, 3], batch=[1])\n"
     ]
    }
   ],
   "source": [
    "batch_size = 2\n",
    "# Inherits Pytorch's data loader, so the same keyword argument can be used.\n",
    "dataloader = GraphLoader(dataset, batch_size=batch_size, shuffle=True)\n",
    "\n",
    "# check each batch\n",
    "for t in dataloader:\n",
    "    print(t)"
   ]
  },
  {
   "cell_type": "markdown",
   "id": "5e932efe-a87b-44bf-86c8-229593c715e2",
   "metadata": {},
   "source": [
    "## Define model & Training"
   ]
  },
  {
   "cell_type": "code",
   "execution_count": 9,
   "id": "96f32950-af14-46ab-8217-a4b435330552",
   "metadata": {},
   "outputs": [
    {
     "data": {
      "text/plain": [
       "SchNet(node_dim=128, edge_filter_dim=128, n_gaussian=32, cutoff=4.0, out_dim=1, convolution_layers: SchNetConv * 4)"
      ]
     },
     "execution_count": 9,
     "metadata": {},
     "output_type": "execute_result"
    }
   ],
   "source": [
    "model = SchNet(\n",
    "    node_dim=128,\n",
    "    edge_filter_dim=128,\n",
    "    out_dim=1,\n",
    "    n_conv_layer=4,\n",
    "    n_gaussian=32,\n",
    "    scaler=ScaleShift,\n",
    "    cutoff_radi=CUTOFF,\n",
    ")\n",
    "model.to(DEVICE)"
   ]
  },
  {
   "cell_type": "code",
   "execution_count": 10,
   "id": "403e5b40-607a-4a48-b674-e53bae76bdbb",
   "metadata": {},
   "outputs": [
    {
     "name": "stdout",
     "output_type": "stream",
     "text": [
      "True\n",
      "tensor([[ 0.9356],\n",
      "        [-2.7731]], grad_fn=<ScatterAddBackward0>)\n",
      "True\n",
      "tensor([[1.6955]], grad_fn=<ScatterAddBackward0>)\n"
     ]
    }
   ],
   "source": [
    "for data in dataloader:\n",
    "    data.to(DEVICE)\n",
    "    out = model(data)\n",
    "    # get same shape of energy\n",
    "    print(out.shape==data[\"energy\"].shape)\n",
    "    print(out)"
   ]
  },
  {
   "cell_type": "code",
   "execution_count": 11,
   "id": "63ca9bc3-453e-4799-92a7-2a2e32809880",
   "metadata": {},
   "outputs": [
    {
     "data": {
      "text/plain": [
       "EGNN(node_dim=128, edge_dim=128, cutoff=None, out_dim=1, convolution_layers: EGNNConv * 4)"
      ]
     },
     "execution_count": 11,
     "metadata": {},
     "output_type": "execute_result"
    }
   ],
   "source": [
    "model = EGNN(\n",
    "    node_dim=128,\n",
    "    edge_dim=128,\n",
    "    n_conv_layer=4,\n",
    "    out_dim=1,\n",
    ")\n",
    "model.to(DEVICE)"
   ]
  },
  {
   "cell_type": "code",
   "execution_count": 12,
   "id": "1bcb3931-e3e8-427e-956a-df8080153ade",
   "metadata": {},
   "outputs": [
    {
     "name": "stdout",
     "output_type": "stream",
     "text": [
      "True\n",
      "tensor([[ 0.1691],\n",
      "        [-2.3914]], grad_fn=<MmBackward0>)\n",
      "True\n",
      "tensor([[-1.4147]], grad_fn=<MmBackward0>)\n"
     ]
    }
   ],
   "source": [
    "for data in dataloader:\n",
    "    data.to(DEVICE)\n",
    "    out = model(data)\n",
    "    # get same shape of energy\n",
    "    print(out.shape==data[\"energy\"].shape)\n",
    "    print(out)"
   ]
  },
  {
   "cell_type": "code",
   "execution_count": 13,
   "id": "21e083ff-a510-41cf-a812-ae98c13fb656",
   "metadata": {},
   "outputs": [
    {
     "data": {
      "text/plain": [
       "DimeNet(edge_message_dim=128, n_radial=16, n_spherical=4, cutoff=4.0, out_dim=1, interaction_layers: DimNetInteraction * 4)"
      ]
     },
     "execution_count": 13,
     "metadata": {},
     "output_type": "execute_result"
    }
   ],
   "source": [
    "model = DimeNet(\n",
    "    edge_message_dim=128,\n",
    "    n_interaction=4,\n",
    "    out_dim=1,\n",
    "    n_radial=16,\n",
    "    n_spherical=4,\n",
    "    n_bilinear=2, \n",
    "    envelope_exponent=5,\n",
    "    cutoff_radi=CUTOFF,\n",
    ")\n",
    "model.to(DEVICE)"
   ]
  },
  {
   "cell_type": "code",
   "execution_count": 14,
   "id": "2b1ffa03-5c50-44b8-ac20-e74d40a8ec58",
   "metadata": {},
   "outputs": [
    {
     "name": "stdout",
     "output_type": "stream",
     "text": [
      "True\n",
      "tensor([[ 0.0217],\n",
      "        [-0.0235]], grad_fn=<ScatterAddBackward0>)\n",
      "True\n",
      "tensor([[-2.2971e+33]], grad_fn=<ScatterAddBackward0>)\n"
     ]
    }
   ],
   "source": [
    "for data in dataloader:\n",
    "    data.to(DEVICE)\n",
    "    out = model(data)\n",
    "    # get same shape of energy\n",
    "    print(out.shape==data[\"energy\"].shape)\n",
    "    print(out)"
   ]
  },
  {
   "cell_type": "code",
   "execution_count": 15,
   "id": "5a90183b-deb2-492b-b97d-4dee4a198625",
   "metadata": {},
   "outputs": [
    {
     "data": {
      "text/plain": [
       "DimeNetPlusPlus(edge_message_dim=128, n_radial=16, n_spherical=4, cutoff=4.0, out_dim=1, interaction_layers: DimNetPPInteraction * 4)"
      ]
     },
     "execution_count": 15,
     "metadata": {},
     "output_type": "execute_result"
    }
   ],
   "source": [
    "model = DimeNetPlusPlus(\n",
    "    edge_message_dim=128,\n",
    "    n_interaction=4,\n",
    "    out_dim=1,\n",
    "    n_radial=16,\n",
    "    n_spherical=4,\n",
    "    edge_down_dim=64,\n",
    "    basis_embed_dim=64,\n",
    "    out_up_dim=256,\n",
    "    envelope_exponent=5,\n",
    "    cutoff_radi=CUTOFF,\n",
    ")\n",
    "model.to(DEVICE)"
   ]
  },
  {
   "cell_type": "code",
   "execution_count": 16,
   "id": "d53e3d0a-af99-4a6f-8768-d978310a67cd",
   "metadata": {},
   "outputs": [
    {
     "name": "stdout",
     "output_type": "stream",
     "text": [
      "True\n",
      "tensor([[-0.9449],\n",
      "        [-0.2211]], grad_fn=<ScatterAddBackward0>)\n",
      "True\n",
      "tensor([[7.3053e+35]], grad_fn=<ScatterAddBackward0>)\n"
     ]
    }
   ],
   "source": [
    "for data in dataloader:\n",
    "    data.to(DEVICE)\n",
    "    out = model(data)\n",
    "    # get same shape of energy\n",
    "    print(out.shape==data[\"energy\"].shape)\n",
    "    print(out)"
   ]
  },
  {
   "cell_type": "code",
   "execution_count": null,
   "id": "5deb8add-19ea-441d-ae8c-ce3e374b5531",
   "metadata": {},
   "outputs": [],
   "source": []
  }
 ],
 "metadata": {
  "kernelspec": {
   "display_name": "Python 3 (ipykernel)",
   "language": "python",
   "name": "python3"
  },
  "language_info": {
   "codemirror_mode": {
    "name": "ipython",
    "version": 3
   },
   "file_extension": ".py",
   "mimetype": "text/x-python",
   "name": "python",
   "nbconvert_exporter": "python",
   "pygments_lexer": "ipython3",
   "version": "3.8.12"
  },
  "vscode": {
   "interpreter": {
    "hash": "a0b44de74b2d6ef6bbc7e262ed4c8a3617fa5a550df48c50a3e2ac4c6e8fd93c"
   }
  }
 },
 "nbformat": 4,
 "nbformat_minor": 5
}
